{
 "cells": [
  {
   "cell_type": "code",
   "execution_count": 1,
   "metadata": {
    "collapsed": true
   },
   "outputs": [],
   "source": [
    "import random\n",
    "\n",
    "from utils import image_processing as img_pr\n",
    "import os\n",
    "import matplotlib.pyplot as plt\n",
    "import pandas as pd\n",
    "import numpy as np"
   ]
  },
  {
   "cell_type": "markdown",
   "metadata": {
    "collapsed": false,
    "pycharm": {
     "name": "#%% md\n"
    }
   },
   "source": [
    "### Disease detection model\n",
    "This example intends to show the process that evolves on training a model dor disease detection.\n",
    "the notebook is divided as follows:\n",
    "* Organize score datasets\n",
    "* merge scores with the extracted images\n",
    "* save images into folders, one per each category\n",
    "* Train a vgg model\n",
    "* Test the model."
   ]
  },
  {
   "cell_type": "code",
   "execution_count": 2,
   "metadata": {
    "collapsed": false,
    "pycharm": {
     "name": "#%%\n"
    }
   },
   "outputs": [],
   "source": [
    "def find_list_pairs(list1, list2):\n",
    "    list_pairs = []\n",
    "    for i in np.unique(list1):\n",
    "        for j in np.unique(list2):\n",
    "            if i in j:\n",
    "                list_pairs.append((j, i))\n",
    "\n",
    "    return list_pairs\n",
    "\n",
    "def get_score_table(year, scorestable, images_path):\n",
    "\n",
    "    year_subset = scorestable.loc[scorestable.year == year]\n",
    "    if year == 2018:\n",
    "        idimages =year_subset.id_image\n",
    "    else:\n",
    "        idimages = [i.split(\"/\")[-1] for i in\n",
    "               year_subset.path if i is not np.nan]\n",
    "    year_subset = year_subset[year_subset['path'].notnull()]\n",
    "    year_subset.insert(\n",
    "        year_subset.shape[1],\n",
    "        'id_images',\n",
    "        idimages)\n",
    "\n",
    "    ids_df = pd.DataFrame(\n",
    "                    find_list_pairs(year_subset.id_images,\n",
    "                    images_path))\n",
    "\n",
    "    ids_df.columns = [\"path\", \"id_images\"]\n",
    "\n",
    "    ids_df = ids_df.merge(year_subset[['id_images', 'score']],\n",
    "                                  on='id_images',  how='left')\n",
    "    ids_df['year'] = year\n",
    "    return ids_df"
   ]
  },
  {
   "cell_type": "markdown",
   "metadata": {
    "collapsed": false,
    "pycharm": {
     "name": "#%% md\n"
    }
   },
   "source": [
    "#### Read and organice scores data"
   ]
  },
  {
   "cell_type": "code",
   "execution_count": 122,
   "metadata": {
    "collapsed": false,
    "pycharm": {
     "name": "#%%\n"
    }
   },
   "outputs": [],
   "source": [
    "# set images path\n",
    "folder_path = 'input_score'\n",
    "input_folder = os.path.join(\"images\", folder_path, \"\")\n",
    "imgs_data = []\n",
    "imgs_data = img_pr.ImageData(input_folder,\n",
    "                             pattern=\"jpg\")\n",
    "\n",
    "score_table = pd.read_excel(\"disease_score/summary_.xlsx\")\n",
    "score_table.head()"
   ]
  },
  {
   "cell_type": "code",
   "execution_count": 124,
   "metadata": {
    "collapsed": false,
    "pycharm": {
     "name": "#%%\n"
    }
   },
   "outputs": [],
   "source": [
    "## set up score table\n",
    "ids2017 = get_score_table(2017,\n",
    "                               score_table,\n",
    "                               imgs_data._path_files)\n",
    "\n",
    "ids2018 = get_score_table(2018,\n",
    "                               score_table,\n",
    "                               imgs_data._path_files)\n",
    "\n",
    "ids2019 = get_score_table(2019,\n",
    "                               score_table,\n",
    "                               imgs_data._path_files)\n",
    "\n",
    "ids2019 = ids2019.drop_duplicates('path')\n",
    "\n",
    "df_summary = pd.concat([ids2017,ids2018,  ids2019])"
   ]
  },
  {
   "cell_type": "code",
   "execution_count": 126,
   "outputs": [
    {
     "data": {
      "text/plain": "<AxesSubplot:>"
     },
     "execution_count": 126,
     "metadata": {},
     "output_type": "execute_result"
    },
    {
     "data": {
      "text/plain": "<Figure size 864x576 with 1 Axes>",
      "image/png": "[encoded data removed]"
     },
     "metadata": {
      "needs_background": "light"
     },
     "output_type": "display_data"
    }
   ],
   "source": [
    "%matplotlib inline\n",
    "FIG_SIZE = (12,8)\n",
    "df_summary['score'].value_counts().plot(kind='bar',\n",
    "                                         figsize=FIG_SIZE)"
   ],
   "metadata": {
    "collapsed": false,
    "pycharm": {
     "name": "#%%\n"
    }
   }
  },
  {
   "cell_type": "code",
   "execution_count": 71,
   "outputs": [
    {
     "data": {
      "text/plain": "<AxesSubplot:>"
     },
     "execution_count": 71,
     "metadata": {},
     "output_type": "execute_result"
    },
    {
     "data": {
      "text/plain": "<Figure size 864x576 with 1 Axes>",
      "image/png": "[encoded data removed]"
     },
     "metadata": {
      "needs_background": "light"
     },
     "output_type": "display_data"
    }
   ],
   "source": [
    "%matplotlib inline\n",
    "FIG_SIZE = (12,8)\n",
    "score_table['score'].value_counts().plot(kind='bar',\n",
    "                                         figsize=FIG_SIZE)"
   ],
   "metadata": {
    "collapsed": false,
    "pycharm": {
     "name": "#%%\n"
    }
   }
  },
  {
   "cell_type": "markdown",
   "source": [
    "#### Imbalanced data\n",
    "\n",
    "we face an imbalanced dataset, there are more registers for a specific score. So, we selected a maximun number of\n",
    "registers based on the number of observation for the lowest registers."
   ],
   "metadata": {
    "collapsed": false,
    "pycharm": {
     "name": "#%% md\n"
    }
   }
  },
  {
   "cell_type": "code",
   "execution_count": 127,
   "outputs": [
    {
     "name": "stdout",
     "output_type": "stream",
     "text": [
      "score\n",
      "0.0    989\n",
      "1.0    183\n",
      "2.0    247\n",
      "3.0    572\n",
      "Name: score, dtype: int64\n"
     ]
    }
   ],
   "source": [
    "#\n",
    "df_summary_f = df_summary.loc[df_summary.score.isin([1.,2.,3.,0])]\n",
    "namount =df_summary_f.groupby('score'\n",
    "                         )['score'].count()\n",
    "print(namount)\n",
    "min_values = np.array(namount).min()"
   ],
   "metadata": {
    "collapsed": false,
    "pycharm": {
     "name": "#%%\n"
    }
   }
  },
  {
   "cell_type": "code",
   "execution_count": 128,
   "outputs": [],
   "source": [
    "model_img_paths = []\n",
    "\n",
    "for i in np.unique(df_summary_f.score):\n",
    "    subsetd = df_summary_f.loc[\n",
    "        df_summary_f.score == i]\n",
    "    mlist = list(range(subsetd.shape[0]))\n",
    "    random.seed(123)\n",
    "    random.shuffle(mlist)\n",
    "    limit_n = min_values+20\n",
    "    if limit_n>subsetd.shape[0]:\n",
    "        limit_n = min_values\n",
    "\n",
    "    mlist = np.array(mlist)[0:limit_n]\n",
    "\n",
    "    model_img_paths.append(subsetd.iloc[mlist][\n",
    "                                   ['path', 'score']])\n",
    "\n",
    "model_img_paths = pd.concat(model_img_paths)"
   ],
   "metadata": {
    "collapsed": false,
    "pycharm": {
     "name": "#%%\n"
    }
   }
  },
  {
   "cell_type": "markdown",
   "source": [
    "#### merge with no cabbage"
   ],
   "metadata": {
    "collapsed": false
   }
  },
  {
   "cell_type": "code",
   "execution_count": 129,
   "outputs": [],
   "source": [
    "folder_path = 'non_cabbage'\n",
    "input_folder = os.path.join(\"images\", folder_path, \"\")\n",
    "\n",
    "imgs_noncabbage = img_pr.ImageData(input_folder,\n",
    "                             pattern=\"jpg\")"
   ],
   "metadata": {
    "collapsed": false,
    "pycharm": {
     "name": "#%%\n"
    }
   }
  },
  {
   "cell_type": "code",
   "execution_count": 130,
   "outputs": [
    {
     "data": {
      "text/plain": "(998, 2)"
     },
     "execution_count": 130,
     "metadata": {},
     "output_type": "execute_result"
    }
   ],
   "source": [
    "path_non = pd.DataFrame({'path': imgs_noncabbage._path_files,\n",
    "              'score': [4.0 for i in range(len(\n",
    "                  imgs_noncabbage._path_files))]})\n",
    "\n",
    "model_img_paths = pd.concat([model_img_paths, path_non])\n",
    "model_img_paths.shape"
   ],
   "metadata": {
    "collapsed": false,
    "pycharm": {
     "name": "#%%\n"
    }
   }
  },
  {
   "cell_type": "markdown",
   "source": [
    "#### export images as training and validation data sets"
   ],
   "metadata": {
    "collapsed": false,
    "pycharm": {
     "name": "#%% md\n"
    }
   }
  },
  {
   "cell_type": "code",
   "execution_count": 140,
   "outputs": [
    {
     "name": "stdout",
     "output_type": "stream",
     "text": [
      "203\n",
      "183\n",
      "203\n",
      "203\n",
      "206\n"
     ]
    }
   ],
   "source": [
    "val_percentage = 20\n",
    "split_tr_val = []\n",
    "for i in np.unique(model_img_paths.score):\n",
    "    subsetd = model_img_paths.loc[\n",
    "        model_img_paths.score == i]\n",
    "    print(subsetd.shape[0])\n",
    "    mlist = list(range(subsetd.shape[0]))\n",
    "    random.seed(123)\n",
    "    random.shuffle(mlist)\n",
    "\n",
    "    limit_n = int(subsetd.shape[0] *\n",
    "                  (val_percentage/100))\n",
    "\n",
    "    training_list = np.array(mlist)[:(subsetd.shape[0]-limit_n)]\n",
    "    val_list = np.array(mlist)[(subsetd.shape[0]-limit_n):]\n",
    "\n",
    "    split_tr_val.append(\n",
    "        [subsetd.iloc[training_list],\n",
    "         subsetd.iloc[val_list]]\n",
    "    )"
   ],
   "metadata": {
    "collapsed": false,
    "pycharm": {
     "name": "#%%\n"
    }
   }
  },
  {
   "cell_type": "code",
   "execution_count": 142,
   "outputs": [
    {
     "data": {
      "text/plain": "                                                   path  score\n197        images\\input_score\\y2017_4482_1_161A9114.JPG    0.0\n496   images\\input_score\\y2019_awaji_200205_07_3503_...    0.0\n414   images\\input_score\\y2019_awaji_200205_07_1722_...    0.0\n1785  images\\input_score\\y2019_katsuura_40710_1_4N6A...    0.0\n834   images\\input_score\\y2019_awaji_200205_07_11716...    0.0\n648   images\\input_score\\y2019_awaji_200205_07_6704_...    0.0\n110   images\\input_score\\y2019_awaji_200226_3504畝1列_...    0.0\n768   images\\input_score\\y2019_awaji_200205_07_10065...    0.0\n1693  images\\input_score\\y2019_katsuura_11307_1_4N6A...    0.0\n1904  images\\input_score\\y2019_katsuura_18412_2_4N6A...    0.0\n1250  images\\input_score\\y2018_2521_2_170_338_4N6A57...    0.0\n1331  images\\input_score\\y2018_721_1_1_169_4N6A5905.JPG    0.0\n1316  images\\input_score\\y2018_461_1_1_169_4N6A5879.JPG    0.0\n1894  images\\input_score\\y2019_katsuura_15012_2_4N6A...    0.0\n1680  images\\input_score\\y2019_katsuura_8606_2_4N6A8...    0.0\n391   images\\input_score\\y2019_awaji_200205_07_1051_...    0.0\n1544  images\\input_score\\y2019_katsuura__33904_1_4N6...    0.0\n1277  images\\input_score\\y2018_3211_2_170_338_4N6A58...    0.0\n1440  images\\input_score\\y2019_katsuura__3101_1_4N6A...    0.0\n1502  images\\input_score\\y2019_katsuura__22303_1_4N6...    0.0\n1238  images\\input_score\\y2018_1861_2_170_338_4N6A56...    0.0\n1674  images\\input_score\\y2019_katsuura_7906_2_4N6A8...    0.0\n370   images\\input_score\\y2019_awaji_200226_9227畝1列_...    0.0\n764   images\\input_score\\y2019_awaji_200205_07_9965_...    0.0\n1556  images\\input_score\\y2019_katsuura__35404_2_4N6...    0.0\n663   images\\input_score\\y2019_awaji_200205_07_7054_...    0.0\n1478  images\\input_score\\y2019_katsuura__15302_2_4N6...    0.0\n454   images\\input_score\\y2019_awaji_200205_07_2472_...    0.0\n822   images\\input_score\\y2019_awaji_200205_07_11476...    0.0\n326   images\\input_score\\y2019_awaji_200226_8117畝1列_...    0.0\n998   images\\input_score\\y2019_awaji_200205_07_15267...    0.0\n377   images\\input_score\\y2019_awaji_200205_07_381_1...    0.0\n521   images\\input_score\\y2019_awaji_200205_07_4093_...    0.0\n1431  images\\input_score\\y2018_3722_3_339_507_4N6A63...    0.0\n499   images\\input_score\\y2019_awaji_200205_07_3553_...    0.0\n241   images\\input_score\\y2019_awaji_200226_6376畝1列_...    0.0\n234   images\\input_score\\y2019_awaji_200226_6175畝1列_...    0.0\n747   images\\input_score\\y2019_awaji_200205_07_9565_...    0.0\n809   images\\input_score\\y2019_awaji_200205_07_11095...    0.0\n1291   images\\input_score\\y2018_61_1_1_169_4N6A5839.JPG    0.0",
      "text/html": "<div>\n<style scoped>\n    .dataframe tbody tr th:only-of-type {\n        vertical-align: middle;\n    }\n\n    .dataframe tbody tr th {\n        vertical-align: top;\n    }\n\n    .dataframe thead th {\n        text-align: right;\n    }\n</style>\n<table border=\"1\" class=\"dataframe\">\n  <thead>\n    <tr style=\"text-align: right;\">\n      <th></th>\n      <th>path</th>\n      <th>score</th>\n    </tr>\n  </thead>\n  <tbody>\n    <tr>\n      <th>197</th>\n      <td>images\\input_score\\y2017_4482_1_161A9114.JPG</td>\n      <td>0.0</td>\n    </tr>\n    <tr>\n      <th>496</th>\n      <td>images\\input_score\\y2019_awaji_200205_07_3503_...</td>\n      <td>0.0</td>\n    </tr>\n    <tr>\n      <th>414</th>\n      <td>images\\input_score\\y2019_awaji_200205_07_1722_...</td>\n      <td>0.0</td>\n    </tr>\n    <tr>\n      <th>1785</th>\n      <td>images\\input_score\\y2019_katsuura_40710_1_4N6A...</td>\n      <td>0.0</td>\n    </tr>\n    <tr>\n      <th>834</th>\n      <td>images\\input_score\\y2019_awaji_200205_07_11716...</td>\n      <td>0.0</td>\n    </tr>\n    <tr>\n      <th>648</th>\n      <td>images\\input_score\\y2019_awaji_200205_07_6704_...</td>\n      <td>0.0</td>\n    </tr>\n    <tr>\n      <th>110</th>\n      <td>images\\input_score\\y2019_awaji_200226_3504畝1列_...</td>\n      <td>0.0</td>\n    </tr>\n    <tr>\n      <th>768</th>\n      <td>images\\input_score\\y2019_awaji_200205_07_10065...</td>\n      <td>0.0</td>\n    </tr>\n    <tr>\n      <th>1693</th>\n      <td>images\\input_score\\y2019_katsuura_11307_1_4N6A...</td>\n      <td>0.0</td>\n    </tr>\n    <tr>\n      <th>1904</th>\n      <td>images\\input_score\\y2019_katsuura_18412_2_4N6A...</td>\n      <td>0.0</td>\n    </tr>\n    <tr>\n      <th>1250</th>\n      <td>images\\input_score\\y2018_2521_2_170_338_4N6A57...</td>\n      <td>0.0</td>\n    </tr>\n    <tr>\n      <th>1331</th>\n      <td>images\\input_score\\y2018_721_1_1_169_4N6A5905.JPG</td>\n      <td>0.0</td>\n    </tr>\n    <tr>\n      <th>1316</th>\n      <td>images\\input_score\\y2018_461_1_1_169_4N6A5879.JPG</td>\n      <td>0.0</td>\n    </tr>\n    <tr>\n      <th>1894</th>\n      <td>images\\input_score\\y2019_katsuura_15012_2_4N6A...</td>\n      <td>0.0</td>\n    </tr>\n    <tr>\n      <th>1680</th>\n      <td>images\\input_score\\y2019_katsuura_8606_2_4N6A8...</td>\n      <td>0.0</td>\n    </tr>\n    <tr>\n      <th>391</th>\n      <td>images\\input_score\\y2019_awaji_200205_07_1051_...</td>\n      <td>0.0</td>\n    </tr>\n    <tr>\n      <th>1544</th>\n      <td>images\\input_score\\y2019_katsuura__33904_1_4N6...</td>\n      <td>0.0</td>\n    </tr>\n    <tr>\n      <th>1277</th>\n      <td>images\\input_score\\y2018_3211_2_170_338_4N6A58...</td>\n      <td>0.0</td>\n    </tr>\n    <tr>\n      <th>1440</th>\n      <td>images\\input_score\\y2019_katsuura__3101_1_4N6A...</td>\n      <td>0.0</td>\n    </tr>\n    <tr>\n      <th>1502</th>\n      <td>images\\input_score\\y2019_katsuura__22303_1_4N6...</td>\n      <td>0.0</td>\n    </tr>\n    <tr>\n      <th>1238</th>\n      <td>images\\input_score\\y2018_1861_2_170_338_4N6A56...</td>\n      <td>0.0</td>\n    </tr>\n    <tr>\n      <th>1674</th>\n      <td>images\\input_score\\y2019_katsuura_7906_2_4N6A8...</td>\n      <td>0.0</td>\n    </tr>\n    <tr>\n      <th>370</th>\n      <td>images\\input_score\\y2019_awaji_200226_9227畝1列_...</td>\n      <td>0.0</td>\n    </tr>\n    <tr>\n      <th>764</th>\n      <td>images\\input_score\\y2019_awaji_200205_07_9965_...</td>\n      <td>0.0</td>\n    </tr>\n    <tr>\n      <th>1556</th>\n      <td>images\\input_score\\y2019_katsuura__35404_2_4N6...</td>\n      <td>0.0</td>\n    </tr>\n    <tr>\n      <th>663</th>\n      <td>images\\input_score\\y2019_awaji_200205_07_7054_...</td>\n      <td>0.0</td>\n    </tr>\n    <tr>\n      <th>1478</th>\n      <td>images\\input_score\\y2019_katsuura__15302_2_4N6...</td>\n      <td>0.0</td>\n    </tr>\n    <tr>\n      <th>454</th>\n      <td>images\\input_score\\y2019_awaji_200205_07_2472_...</td>\n      <td>0.0</td>\n    </tr>\n    <tr>\n      <th>822</th>\n      <td>images\\input_score\\y2019_awaji_200205_07_11476...</td>\n      <td>0.0</td>\n    </tr>\n    <tr>\n      <th>326</th>\n      <td>images\\input_score\\y2019_awaji_200226_8117畝1列_...</td>\n      <td>0.0</td>\n    </tr>\n    <tr>\n      <th>998</th>\n      <td>images\\input_score\\y2019_awaji_200205_07_15267...</td>\n      <td>0.0</td>\n    </tr>\n    <tr>\n      <th>377</th>\n      <td>images\\input_score\\y2019_awaji_200205_07_381_1...</td>\n      <td>0.0</td>\n    </tr>\n    <tr>\n      <th>521</th>\n      <td>images\\input_score\\y2019_awaji_200205_07_4093_...</td>\n      <td>0.0</td>\n    </tr>\n    <tr>\n      <th>1431</th>\n      <td>images\\input_score\\y2018_3722_3_339_507_4N6A63...</td>\n      <td>0.0</td>\n    </tr>\n    <tr>\n      <th>499</th>\n      <td>images\\input_score\\y2019_awaji_200205_07_3553_...</td>\n      <td>0.0</td>\n    </tr>\n    <tr>\n      <th>241</th>\n      <td>images\\input_score\\y2019_awaji_200226_6376畝1列_...</td>\n      <td>0.0</td>\n    </tr>\n    <tr>\n      <th>234</th>\n      <td>images\\input_score\\y2019_awaji_200226_6175畝1列_...</td>\n      <td>0.0</td>\n    </tr>\n    <tr>\n      <th>747</th>\n      <td>images\\input_score\\y2019_awaji_200205_07_9565_...</td>\n      <td>0.0</td>\n    </tr>\n    <tr>\n      <th>809</th>\n      <td>images\\input_score\\y2019_awaji_200205_07_11095...</td>\n      <td>0.0</td>\n    </tr>\n    <tr>\n      <th>1291</th>\n      <td>images\\input_score\\y2018_61_1_1_169_4N6A5839.JPG</td>\n      <td>0.0</td>\n    </tr>\n  </tbody>\n</table>\n</div>"
     },
     "execution_count": 142,
     "metadata": {},
     "output_type": "execute_result"
    }
   ],
   "source": [
    "split_tr_val[0][1]\n",
    "\n"
   ],
   "metadata": {
    "collapsed": false,
    "pycharm": {
     "name": "#%%\n"
    }
   }
  }
 ],
 "metadata": {
  "interpreter": {
   "hash": "0aa5309571a2bb39a1e2678017a5f13285b7c5eb4167fbbbef5a43d8e13e65a3"
  },
  "kernelspec": {
   "display_name": "Python 3.9.7 64-bit ('chinese_cabbage': conda)",
   "name": "python3"
  },
  "language_info": {
   "codemirror_mode": {
    "name": "ipython",
    "version": 3
   },
   "file_extension": ".py",
   "mimetype": "text/x-python",
   "name": "python",
   "nbconvert_exporter": "python",
   "pygments_lexer": "ipython3",
   "version": "3.9.7"
  }
 },
 "nbformat": 4,
 "nbformat_minor": 0
}